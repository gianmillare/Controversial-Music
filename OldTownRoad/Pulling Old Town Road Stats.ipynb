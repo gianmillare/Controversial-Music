{
 "cells": [
  {
   "cell_type": "code",
   "execution_count": 1,
   "metadata": {},
   "outputs": [],
   "source": [
    "import pandas as pd\n",
    "import numpy as np\n",
    "import requests\n",
    "import json\n",
    "import matplotlib.pyplot as plt\n",
    "from youtube_api import api_key\n",
    "\n",
    "url = \"https://www.googleapis.com/youtube/v3/videos?id=w2Ov5jzm3j8&key=\" + api_key + \"&part=statistics\""
   ]
  },
  {
   "cell_type": "code",
   "execution_count": 2,
   "metadata": {},
   "outputs": [
    {
     "data": {
      "text/plain": [
       "'{\"kind\": \"youtube#videoListResponse\", \"etag\": \"\\\\\"p4VTdlkQv3HQeTEaXgvLePAydmU/THg8Y73_XQVEiOPo64pM6DzUUG8\\\\\"\", \"pageInfo\": {\"totalResults\": 1, \"resultsPerPage\": 1}, \"items\": [{\"kind\": \"youtube#video\", \"etag\": \"\\\\\"p4VTdlkQv3HQeTEaXgvLePAydmU/eCuiaXgAfbhHevurdzskpttsk_g\\\\\"\", \"id\": \"w2Ov5jzm3j8\", \"statistics\": {\"viewCount\": \"346859649\", \"likeCount\": \"9288457\", \"dislikeCount\": \"258558\", \"favoriteCount\": \"0\", \"commentCount\": \"319676\"}}]}'"
      ]
     },
     "execution_count": 2,
     "metadata": {},
     "output_type": "execute_result"
    }
   ],
   "source": [
    "youtube_response = requests.get(url).json()\n",
    "youtube_json = json.dumps(youtube_response)\n",
    "youtube_json\n"
   ]
  },
  {
   "cell_type": "code",
   "execution_count": 3,
   "metadata": {},
   "outputs": [
    {
     "data": {
      "text/html": [
       "<div>\n",
       "<style scoped>\n",
       "    .dataframe tbody tr th:only-of-type {\n",
       "        vertical-align: middle;\n",
       "    }\n",
       "\n",
       "    .dataframe tbody tr th {\n",
       "        vertical-align: top;\n",
       "    }\n",
       "\n",
       "    .dataframe thead th {\n",
       "        text-align: right;\n",
       "    }\n",
       "</style>\n",
       "<table border=\"1\" class=\"dataframe\">\n",
       "  <thead>\n",
       "    <tr style=\"text-align: right;\">\n",
       "      <th></th>\n",
       "      <th>Comment Count</th>\n",
       "      <th>Dislike Count</th>\n",
       "      <th>Like Count</th>\n",
       "      <th>View Count</th>\n",
       "    </tr>\n",
       "  </thead>\n",
       "  <tbody>\n",
       "    <tr>\n",
       "      <th>0</th>\n",
       "      <td>319676</td>\n",
       "      <td>258558</td>\n",
       "      <td>9288457</td>\n",
       "      <td>346859649</td>\n",
       "    </tr>\n",
       "  </tbody>\n",
       "</table>\n",
       "</div>"
      ],
      "text/plain": [
       "  Comment Count Dislike Count Like Count View Count\n",
       "0        319676        258558    9288457  346859649"
      ]
     },
     "execution_count": 3,
     "metadata": {},
     "output_type": "execute_result"
    }
   ],
   "source": [
    "view_count = youtube_response[\"items\"][0][\"statistics\"][\"viewCount\"]\n",
    "like_count = youtube_response[\"items\"][0][\"statistics\"][\"likeCount\"]\n",
    "dislike_count = youtube_response[\"items\"][0][\"statistics\"][\"dislikeCount\"]\n",
    "comment_count = youtube_response[\"items\"][0][\"statistics\"][\"commentCount\"]\n",
    "\n",
    "statistics_list = [{\"View Count\": view_count,\n",
    "                   \"Like Count\": like_count,\n",
    "                   \"Dislike Count\": dislike_count,\n",
    "                   \"Comment Count\": comment_count}]\n",
    "\n",
    "statistics_df = pd.DataFrame(statistics_list)\n",
    "statistics_df"
   ]
  },
  {
   "cell_type": "code",
   "execution_count": 4,
   "metadata": {},
   "outputs": [
    {
     "data": {
      "text/html": [
       "<div>\n",
       "<style scoped>\n",
       "    .dataframe tbody tr th:only-of-type {\n",
       "        vertical-align: middle;\n",
       "    }\n",
       "\n",
       "    .dataframe tbody tr th {\n",
       "        vertical-align: top;\n",
       "    }\n",
       "\n",
       "    .dataframe thead th {\n",
       "        text-align: right;\n",
       "    }\n",
       "</style>\n",
       "<table border=\"1\" class=\"dataframe\">\n",
       "  <thead>\n",
       "    <tr style=\"text-align: right;\">\n",
       "      <th></th>\n",
       "      <th>View Count</th>\n",
       "      <th>Like Count</th>\n",
       "      <th>Dislike Count</th>\n",
       "      <th>Comment Count</th>\n",
       "      <th>Video Name</th>\n",
       "    </tr>\n",
       "  </thead>\n",
       "  <tbody>\n",
       "    <tr>\n",
       "      <th>0</th>\n",
       "      <td>346859649</td>\n",
       "      <td>9288457</td>\n",
       "      <td>258558</td>\n",
       "      <td>319676</td>\n",
       "      <td>Old Town Road (Official Movie)</td>\n",
       "    </tr>\n",
       "    <tr>\n",
       "      <th>1</th>\n",
       "      <td>96165300</td>\n",
       "      <td>3294678</td>\n",
       "      <td>114416</td>\n",
       "      <td>204042</td>\n",
       "      <td>Panini (Official Video)</td>\n",
       "    </tr>\n",
       "  </tbody>\n",
       "</table>\n",
       "</div>"
      ],
      "text/plain": [
       "   View Count  Like Count  Dislike Count  Comment Count  \\\n",
       "0   346859649     9288457         258558         319676   \n",
       "1    96165300     3294678         114416         204042   \n",
       "\n",
       "                       Video Name  \n",
       "0  Old Town Road (Official Movie)  \n",
       "1         Panini (Official Video)  "
      ]
     },
     "execution_count": 4,
     "metadata": {},
     "output_type": "execute_result"
    }
   ],
   "source": [
    "# lets make a triple stacked comparison\n",
    "statistics_list = []\n",
    "video_list = []\n",
    "video_name_list = [\"Old Town Road (Official Movie)\", \"Panini (Official Video)\"]\n",
    "video_id_list = [\"w2Ov5jzm3j8\", \"bXcSLI58-h8\"]\n",
    "for video in video_id_list:\n",
    "    url =  \"https://www.googleapis.com/youtube/v3/videos?id=\" + video + \"&key=\" + api_key + \"&part=statistics\"\n",
    "    youtube_response = requests.get(url).json()\n",
    "    video_list.append(youtube_response)    \n",
    "\n",
    "view_count_list = []\n",
    "like_count_list = []  \n",
    "dislike_count_list = []  \n",
    "comment_count_list = []  \n",
    "    \n",
    "for videos in video_list:\n",
    "    view_count_list.append(videos[\"items\"][0][\"statistics\"][\"viewCount\"])\n",
    "    like_count_list.append(videos[\"items\"][0][\"statistics\"][\"likeCount\"])\n",
    "    dislike_count_list.append(videos[\"items\"][0][\"statistics\"][\"dislikeCount\"])\n",
    "    comment_count_list.append(videos[\"items\"][0][\"statistics\"][\"commentCount\"])\n",
    "    \n",
    "statistics_df = pd.DataFrame(view_count_list, columns=[\"View Count\"])\n",
    "statistics_df[\"Like Count\"] = like_count_list\n",
    "statistics_df[\"Dislike Count\"] = dislike_count_list\n",
    "statistics_df[\"Comment Count\"] = comment_count_list\n",
    "statistics_df[\"Video Name\"] = video_name_list\n",
    "\n",
    "statistics_df[\"Video Name\"] = statistics_df[\"Video Name\"].astype(str)\n",
    "statistics_df[\"View Count\"] = statistics_df[\"View Count\"].astype(int)\n",
    "statistics_df[\"Like Count\"] = statistics_df[\"Like Count\"].astype(int)\n",
    "statistics_df[\"Dislike Count\"] = statistics_df[\"Dislike Count\"].astype(int)\n",
    "statistics_df[\"Comment Count\"] = statistics_df[\"Comment Count\"].astype(int)\n",
    "\n",
    "# statistics_df = statistics_df.set_index(\"Video Name\")\n",
    "statistics_df"
   ]
  },
  {
   "cell_type": "code",
   "execution_count": 5,
   "metadata": {},
   "outputs": [
    {
     "data": {
      "image/png": "[encoded data removed]",
      "text/plain": [
       "<Figure size 432x288 with 1 Axes>"
      ]
     },
     "metadata": {
      "needs_background": "light"
     },
     "output_type": "display_data"
    }
   ],
   "source": [
    "n = 2\n",
    "ind = np.arange(n)\n",
    "width = .65\n",
    "\n",
    "p1 = plt.bar(statistics_df[\"Video Name\"], statistics_df[\"Like Count\"], width)\n",
    "p2 = plt.bar(statistics_df[\"Video Name\"], statistics_df[\"Dislike Count\"], width, bottom=statistics_df[\"Like Count\"])\n",
    "\n",
    "plt.ylabel('Total Count')\n",
    "plt.xlabel('Video Name')\n",
    "plt.title('Lil Nas X Likes vs. Dislikes Proportions')\n",
    "plt.yticks(np.arange(0,12000000,3000000))\n",
    "plt.legend((p1[0], p2[0]), ['Likes', 'Dislikes'], loc=1)\n",
    "\n",
    "plt.savefig('Dislikes_vs_likes.png')\n",
    "plt.show()\n"
   ]
  },
  {
   "cell_type": "code",
   "execution_count": 6,
   "metadata": {},
   "outputs": [
    {
     "data": {
      "image/png": "[encoded data removed]",
      "text/plain": [
       "<Figure size 432x288 with 1 Axes>"
      ]
     },
     "metadata": {
      "needs_background": "light"
     },
     "output_type": "display_data"
    }
   ],
   "source": [
    "n = 2\n",
    "ind = np.arange(n)\n",
    "width = .65\n",
    "\n",
    "p1 = plt.bar(statistics_df[\"Video Name\"], statistics_df[\"Like Count\"], width)\n",
    "p2 = plt.bar(statistics_df[\"Video Name\"], statistics_df[\"Comment Count\"], width, bottom=statistics_df[\"Like Count\"])\n",
    "\n",
    "plt.ylabel('Total Count')\n",
    "plt.xlabel('Video Name')\n",
    "plt.title('Lil Nas X Comments vs. Likes Proportions')\n",
    "plt.yticks(np.arange(0,12000000,3000000))\n",
    "plt.legend((p1[0], p2[0]), ['Likes', 'Comments'], loc=1)\n",
    "\n",
    "plt.savefig('Comments_vs_likes.png')\n",
    "plt.show()\n",
    "\n"
   ]
  },
  {
   "cell_type": "code",
   "execution_count": 7,
   "metadata": {},
   "outputs": [
    {
     "data": {
      "image/png": "[encoded data removed]",
      "text/plain": [
       "<Figure size 432x288 with 1 Axes>"
      ]
     },
     "metadata": {
      "needs_background": "light"
     },
     "output_type": "display_data"
    }
   ],
   "source": [
    "n = 3\n",
    "ind = np.arange(n)\n",
    "width = .65\n",
    "\n",
    "p1 = plt.bar(statistics_df[\"Video Name\"], statistics_df[\"Like Count\"], width)\n",
    "p2 = plt.bar(statistics_df[\"Video Name\"], statistics_df[\"Comment Count\"], width, bottom=statistics_df[\"Like Count\"])\n",
    "p3 = plt.bar(statistics_df[\"Video Name\"], statistics_df[\"Dislike Count\"], width, bottom=statistics_df[\"Like Count\"]+statistics_df[\"Comment Count\"])\n",
    "\n",
    "\n",
    "plt.ylabel('Total Count')\n",
    "plt.xlabel('Video Name')\n",
    "plt.title('Comments vs. Dislikes vs. Likes Proportions')\n",
    "plt.yticks(np.arange(0,15000000,3000000))\n",
    "plt.legend((p1[0], p2[0], p3[0]), ['Likes', 'Comments', 'Dislikes'], loc=1)\n",
    "\n",
    "plt.savefig('Comments_vs_Dislikes_vs_Likes.png')\n",
    "plt.show()\n",
    "\n",
    "\n"
   ]
  },
  {
   "cell_type": "code",
   "execution_count": 8,
   "metadata": {},
   "outputs": [
    {
     "data": {
      "text/html": [
       "<div>\n",
       "<style scoped>\n",
       "    .dataframe tbody tr th:only-of-type {\n",
       "        vertical-align: middle;\n",
       "    }\n",
       "\n",
       "    .dataframe tbody tr th {\n",
       "        vertical-align: top;\n",
       "    }\n",
       "\n",
       "    .dataframe thead th {\n",
       "        text-align: right;\n",
       "    }\n",
       "</style>\n",
       "<table border=\"1\" class=\"dataframe\">\n",
       "  <thead>\n",
       "    <tr style=\"text-align: right;\">\n",
       "      <th></th>\n",
       "      <th>View Count</th>\n",
       "      <th>Like Count</th>\n",
       "      <th>Dislike Count</th>\n",
       "      <th>Comment Count</th>\n",
       "      <th>Video Name</th>\n",
       "      <th>Percentage Dislikes</th>\n",
       "      <th>Percentage Likes</th>\n",
       "    </tr>\n",
       "  </thead>\n",
       "  <tbody>\n",
       "    <tr>\n",
       "      <th>0</th>\n",
       "      <td>60615147</td>\n",
       "      <td>1397671</td>\n",
       "      <td>48897</td>\n",
       "      <td>85905</td>\n",
       "      <td>Lil Nas X, Cardi B - Rodeo</td>\n",
       "      <td>3.380207</td>\n",
       "      <td>96.619793</td>\n",
       "    </tr>\n",
       "    <tr>\n",
       "      <th>1</th>\n",
       "      <td>7273378</td>\n",
       "      <td>205857</td>\n",
       "      <td>6213</td>\n",
       "      <td>21724</td>\n",
       "      <td>Lil Nas X - C7osure (You Like)</td>\n",
       "      <td>2.929693</td>\n",
       "      <td>97.070307</td>\n",
       "    </tr>\n",
       "    <tr>\n",
       "      <th>2</th>\n",
       "      <td>2996760</td>\n",
       "      <td>106603</td>\n",
       "      <td>2749</td>\n",
       "      <td>6651</td>\n",
       "      <td>Lil Nas X - Bring U Down</td>\n",
       "      <td>2.513900</td>\n",
       "      <td>97.486100</td>\n",
       "    </tr>\n",
       "    <tr>\n",
       "      <th>3</th>\n",
       "      <td>6258155</td>\n",
       "      <td>173480</td>\n",
       "      <td>6131</td>\n",
       "      <td>11612</td>\n",
       "      <td>Lil Nas X - Kick It</td>\n",
       "      <td>3.413488</td>\n",
       "      <td>96.586512</td>\n",
       "    </tr>\n",
       "    <tr>\n",
       "      <th>4</th>\n",
       "      <td>346859649</td>\n",
       "      <td>9288457</td>\n",
       "      <td>258558</td>\n",
       "      <td>319676</td>\n",
       "      <td>Old Town Road (Official Movie)</td>\n",
       "      <td>2.708260</td>\n",
       "      <td>97.291740</td>\n",
       "    </tr>\n",
       "    <tr>\n",
       "      <th>5</th>\n",
       "      <td>29358018</td>\n",
       "      <td>551790</td>\n",
       "      <td>61263</td>\n",
       "      <td>54705</td>\n",
       "      <td>Old Town Road (Remix) [Lyric Video]</td>\n",
       "      <td>9.993100</td>\n",
       "      <td>90.006900</td>\n",
       "    </tr>\n",
       "    <tr>\n",
       "      <th>6</th>\n",
       "      <td>10757994</td>\n",
       "      <td>485415</td>\n",
       "      <td>26971</td>\n",
       "      <td>43951</td>\n",
       "      <td>Old Town Road (Area 51 Video)</td>\n",
       "      <td>5.263805</td>\n",
       "      <td>94.736195</td>\n",
       "    </tr>\n",
       "    <tr>\n",
       "      <th>7</th>\n",
       "      <td>68859182</td>\n",
       "      <td>941130</td>\n",
       "      <td>35654</td>\n",
       "      <td>27221</td>\n",
       "      <td>Old Town Road (Week 17 Version)</td>\n",
       "      <td>3.650142</td>\n",
       "      <td>96.349858</td>\n",
       "    </tr>\n",
       "    <tr>\n",
       "      <th>8</th>\n",
       "      <td>13753307</td>\n",
       "      <td>738220</td>\n",
       "      <td>40768</td>\n",
       "      <td>62094</td>\n",
       "      <td>Old Town Road (Seoul Town Road Remix)</td>\n",
       "      <td>5.233457</td>\n",
       "      <td>94.766543</td>\n",
       "    </tr>\n",
       "  </tbody>\n",
       "</table>\n",
       "</div>"
      ],
      "text/plain": [
       "   View Count  Like Count  Dislike Count  Comment Count  \\\n",
       "0    60615147     1397671          48897          85905   \n",
       "1     7273378      205857           6213          21724   \n",
       "2     2996760      106603           2749           6651   \n",
       "3     6258155      173480           6131          11612   \n",
       "4   346859649     9288457         258558         319676   \n",
       "5    29358018      551790          61263          54705   \n",
       "6    10757994      485415          26971          43951   \n",
       "7    68859182      941130          35654          27221   \n",
       "8    13753307      738220          40768          62094   \n",
       "\n",
       "                              Video Name  Percentage Dislikes  \\\n",
       "0             Lil Nas X, Cardi B - Rodeo             3.380207   \n",
       "1         Lil Nas X - C7osure (You Like)             2.929693   \n",
       "2               Lil Nas X - Bring U Down             2.513900   \n",
       "3                    Lil Nas X - Kick It             3.413488   \n",
       "4         Old Town Road (Official Movie)             2.708260   \n",
       "5    Old Town Road (Remix) [Lyric Video]             9.993100   \n",
       "6          Old Town Road (Area 51 Video)             5.263805   \n",
       "7        Old Town Road (Week 17 Version)             3.650142   \n",
       "8  Old Town Road (Seoul Town Road Remix)             5.233457   \n",
       "\n",
       "   Percentage Likes  \n",
       "0         96.619793  \n",
       "1         97.070307  \n",
       "2         97.486100  \n",
       "3         96.586512  \n",
       "4         97.291740  \n",
       "5         90.006900  \n",
       "6         94.736195  \n",
       "7         96.349858  \n",
       "8         94.766543  "
      ]
     },
     "execution_count": 8,
     "metadata": {},
     "output_type": "execute_result"
    }
   ],
   "source": [
    "# lets try other videos\n",
    "statistics_list = []\n",
    "video_list = []\n",
    "video_name_list = [\"Lil Nas X, Cardi B - Rodeo\", \"Lil Nas X - C7osure (You Like)\", \"Lil Nas X - Bring U Down\", \n",
    "                   \"Lil Nas X - Kick It\", \"Old Town Road (Official Movie)\", \"Old Town Road (Remix) [Lyric Video]\",\n",
    "                   \"Old Town Road (Area 51 Video)\", \"Old Town Road (Week 17 Version)\", \"Old Town Road (Seoul Town Road Remix)\"]\n",
    "\n",
    "video_id_list = [\"kx0Z0B8Xox0\", \"eLgxYjZEflI\", \"c_mR-dt_c3g\",\n",
    "                 \"JTx-l_rDZP4\",\"w2Ov5jzm3j8\", \"loSuMqwQA38\", \n",
    "                 \"aA7xDP9sQzk\", \"r7qovpFAGrQ\", \"jzlkfIWu70w\"]\n",
    "\n",
    "for video in video_id_list:\n",
    "    url =  \"https://www.googleapis.com/youtube/v3/videos?id=\" + video + \"&key=\" + api_key + \"&part=statistics\"\n",
    "    youtube_response = requests.get(url).json()\n",
    "    video_list.append(youtube_response)    \n",
    "\n",
    "view_count_list = []\n",
    "like_count_list = []  \n",
    "dislike_count_list = []  \n",
    "comment_count_list = []  \n",
    "    \n",
    "for videos in video_list:\n",
    "    view_count_list.append(videos[\"items\"][0][\"statistics\"][\"viewCount\"])\n",
    "    # view_count_list.append(int(videos[\"items\"][0][\"statistics\"][\"viewCount\"]))\n",
    "    like_count_list.append(videos[\"items\"][0][\"statistics\"][\"likeCount\"])\n",
    "    dislike_count_list.append(videos[\"items\"][0][\"statistics\"][\"dislikeCount\"])\n",
    "    comment_count_list.append(videos[\"items\"][0][\"statistics\"][\"commentCount\"])\n",
    "    \n",
    "statistics_df = pd.DataFrame(view_count_list, columns=[\"View Count\"])\n",
    "statistics_df[\"Like Count\"] = like_count_list\n",
    "statistics_df[\"Dislike Count\"] = dislike_count_list\n",
    "statistics_df[\"Comment Count\"] = comment_count_list\n",
    "statistics_df[\"Video Name\"] = video_name_list\n",
    "\n",
    "statistics_df[\"Video Name\"] = statistics_df[\"Video Name\"].astype(str)\n",
    "statistics_df[\"View Count\"] = statistics_df[\"View Count\"].astype(int)\n",
    "# above line would be removed\n",
    "statistics_df[\"Like Count\"] = statistics_df[\"Like Count\"].astype(int)\n",
    "statistics_df[\"Dislike Count\"] = statistics_df[\"Dislike Count\"].astype(int)\n",
    "statistics_df[\"Comment Count\"] = statistics_df[\"Comment Count\"].astype(int)\n",
    "\n",
    "# lets add new statistics to the table\n",
    "statistics_df[\"Percentage Dislikes\"] = 100*(statistics_df[\"Dislike Count\"]/(statistics_df[\"Like Count\"] +statistics_df[\"Dislike Count\"]))\n",
    "statistics_df[\"Percentage Likes\"] = 100*(statistics_df[\"Like Count\"]/(statistics_df[\"Like Count\"] +statistics_df[\"Dislike Count\"]))\n",
    "\n",
    "\n",
    "# statistics_df = statistics_df.set_index(\"Video Name\")\n",
    "statistics_df"
   ]
  },
  {
   "cell_type": "code",
   "execution_count": 11,
   "metadata": {},
   "outputs": [
    {
     "data": {
      "image/png": "[encoded data removed]",
      "text/plain": [
       "<Figure size 1296x360 with 1 Axes>"
      ]
     },
     "metadata": {
      "needs_background": "light"
     },
     "output_type": "display_data"
    }
   ],
   "source": [
    "n = 9\n",
    "ind = np.arange(n)\n",
    "width = 0.25\n",
    "\n",
    "fig, ax = plt.subplots(figsize=(18,5))\n",
    "pbar1 = plt.bar(ind, statistics_df[\"Like Count\"], width, color='r')\n",
    "pbar2 = plt.bar(ind+width, statistics_df[\"Dislike Count\"], width, color='y')\n",
    "pbar3 = plt.bar(ind+width+width, statistics_df[\"Comment Count\"], width, color='b')\n",
    "plt.xticks(rotation = 50)\n",
    "\n",
    "plt.xticks(ind, statistics_df[\"Video Name\"])\n",
    "plt.ylabel('Total Count')\n",
    "plt.xlabel('Video Name')\n",
    "plt.title('Lil Nas X Statistics Over Each Video')\n",
    "\n",
    "plt.legend((pbar1[0], pbar2[0], pbar3[0]), ['Likes', 'Dislikes', 'Comments'], loc=1)\n",
    "plt.grid()\n",
    "\n",
    "plt.savefig('Statistics_Over_Each_Videos.png')\n",
    "plt.show()"
   ]
  },
  {
   "cell_type": "code",
   "execution_count": null,
   "metadata": {},
   "outputs": [],
   "source": []
  },
  {
   "cell_type": "code",
   "execution_count": null,
   "metadata": {},
   "outputs": [],
   "source": []
  }
 ],
 "metadata": {
  "kernelspec": {
   "display_name": "Python 3",
   "language": "python",
   "name": "python3"
  },
  "language_info": {
   "codemirror_mode": {
    "name": "ipython",
    "version": 3
   },
   "file_extension": ".py",
   "mimetype": "text/x-python",
   "name": "python",
   "nbconvert_exporter": "python",
   "pygments_lexer": "ipython3",
   "version": "3.7.3"
  }
 },
 "nbformat": 4,
 "nbformat_minor": 2
}
